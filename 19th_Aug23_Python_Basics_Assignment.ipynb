{
 "cells": [
  {
   "cell_type": "markdown",
   "id": "990366dd-8e6a-429a-af5c-3ecb24bcf9cd",
   "metadata": {},
   "source": [
    "TOPIC: Python Basics Variable"
   ]
  },
  {
   "cell_type": "markdown",
   "id": "25dbc3ee-3f8c-4156-a08b-18ef835405f2",
   "metadata": {},
   "source": [
    "1. Declare two variables, `x` and `y`, and assign them integer values. Swap the values of these variables without using any temporary variable."
   ]
  },
  {
   "cell_type": "code",
   "execution_count": 2,
   "id": "0ea5c10f-3c0d-403c-b26f-ccfab50c81d8",
   "metadata": {},
   "outputs": [
    {
     "name": "stdout",
     "output_type": "stream",
     "text": [
      "After swapping:\n",
      " Value of x = 23\n",
      " Value of y = 52\n"
     ]
    }
   ],
   "source": [
    "x = 52\n",
    "y = 23\n",
    "\n",
    "x = x + y   #  x now becomes 75\n",
    "y = x - y   #  y becomes 52\n",
    "x = x - y   #  x becomes 23\n",
    "\n",
    "print(\"After swapping:\\n Value of x =\",x)\n",
    "print(\" Value of y =\",y)"
   ]
  },
  {
   "cell_type": "markdown",
   "id": "1bbc0019-cb22-4405-b0f4-f63be11d658e",
   "metadata": {},
   "source": [
    "2. Create a program that calculates the area of a rectangle. Take the length and width as inputs from the user and store them in variables. Calculate and display the area."
   ]
  },
  {
   "cell_type": "code",
   "execution_count": 4,
   "id": "259b5ace-acfe-4954-9a0a-62ed88fb17ff",
   "metadata": {},
   "outputs": [
    {
     "name": "stdin",
     "output_type": "stream",
     "text": [
      "Enter length of rectangle: 12\n",
      "Enter width of rectangle: 5\n"
     ]
    },
    {
     "name": "stdout",
     "output_type": "stream",
     "text": [
      "Area of rectangle is: 60.0\n"
     ]
    }
   ],
   "source": [
    "length = float(input(\"Enter length of rectangle:\"))\n",
    "width = float(input(\"Enter width of rectangle:\"))\n",
    "\n",
    "area = length * width\n",
    "print(\"Area of rectangle is:\",area)\n"
   ]
  },
  {
   "cell_type": "markdown",
   "id": "b5277a9b-3640-46a2-bb18-4cee800b688e",
   "metadata": {},
   "source": [
    "3. Write a Python program that converts temperatures from Celsius to Fahrenheit. Take the temperature in Celsius as input, store it in a variable, convert it to Fahrenheit, and display the result."
   ]
  },
  {
   "cell_type": "code",
   "execution_count": 6,
   "id": "2f631e26-2225-4c7b-888f-7d316615628e",
   "metadata": {},
   "outputs": [
    {
     "name": "stdin",
     "output_type": "stream",
     "text": [
      "Enter the temperature in celsius: 38\n"
     ]
    },
    {
     "name": "stdout",
     "output_type": "stream",
     "text": [
      "Temperatures in fahrenheit: 100.4\n"
     ]
    }
   ],
   "source": [
    "c = float(input(\"Enter the temperature in celsius:\"))\n",
    "\n",
    "f = (c*1.8) + 32\n",
    "print(\"Temperatures in fahrenheit:\",f)"
   ]
  },
  {
   "cell_type": "markdown",
   "id": "d3e73260-2a4e-4aad-9914-c90950e40efd",
   "metadata": {},
   "source": []
  },
  {
   "cell_type": "markdown",
   "id": "d63cf0cc-8590-44ed-afe8-c4befa4d6300",
   "metadata": {},
   "source": [
    "TOPIC: String Based Questions"
   ]
  },
  {
   "cell_type": "markdown",
   "id": "ec848d14-5d1f-4bdf-8cf0-982db5883571",
   "metadata": {},
   "source": [
    "1. Write a Python program that takes a string as input and prints the length of the string."
   ]
  },
  {
   "cell_type": "code",
   "execution_count": 8,
   "id": "84a9a443-b611-4bf7-8694-b44d0f82d46b",
   "metadata": {},
   "outputs": [
    {
     "name": "stdin",
     "output_type": "stream",
     "text": [
      "Enter the string: samarsaurabh\n"
     ]
    },
    {
     "name": "stdout",
     "output_type": "stream",
     "text": [
      "The length of the string is: 12\n"
     ]
    }
   ],
   "source": [
    "s = input(\"Enter the string:\")\n",
    "length = len(s)\n",
    "print(\"The length of the string is:\",length)"
   ]
  },
  {
   "cell_type": "markdown",
   "id": "471827a2-3951-4253-9fc6-da49b7bf7b4f",
   "metadata": {},
   "source": [
    "2. Create a program that takes a sentence from the user and counts the number of vowels (a, e, i, o, u) in the string."
   ]
  },
  {
   "cell_type": "code",
   "execution_count": 10,
   "id": "e7f54e77-aced-4457-9334-115ccbabfe4b",
   "metadata": {},
   "outputs": [
    {
     "name": "stdin",
     "output_type": "stream",
     "text": [
      "Enter a sentence: My name is kumar SAMAR SAURABH\n"
     ]
    },
    {
     "name": "stdout",
     "output_type": "stream",
     "text": [
      "Number of vowels in sentence are: 10\n"
     ]
    }
   ],
   "source": [
    "sen = input(\"Enter a sentence:\")\n",
    "vowels =\"aeiouAEIOU\"\n",
    "\n",
    "count = sum(sen.count(vowels) for vowels in vowels)\n",
    "print(\"Number of vowels in sentence are:\",count)"
   ]
  },
  {
   "cell_type": "markdown",
   "id": "21c8f0d0-dd21-42ef-bcc6-9441d3d33c01",
   "metadata": {},
   "source": [
    "3. Given a string, reverse the order of characters using string slicing and print the reversed string."
   ]
  },
  {
   "cell_type": "code",
   "execution_count": 15,
   "id": "ceff1ab0-7c76-43a4-8685-0037e0437fc2",
   "metadata": {},
   "outputs": [
    {
     "name": "stdin",
     "output_type": "stream",
     "text": [
      "Enter a string: samar PWSKILLS\n"
     ]
    },
    {
     "name": "stdout",
     "output_type": "stream",
     "text": [
      "The reversed string is: SLLIKSWP ramas\n"
     ]
    }
   ],
   "source": [
    "s1 = input(\"Enter a string:\")\n",
    "rev = s1[::-1]\n",
    "print(\"The reversed string is:\",rev)\n"
   ]
  },
  {
   "cell_type": "markdown",
   "id": "a32ad4ac-085b-4615-9742-38465e12d75e",
   "metadata": {},
   "source": [
    "4. Write a program that takes a string as input and checks if it is a palindrome (reads the same forwards and backwards)."
   ]
  },
  {
   "cell_type": "code",
   "execution_count": 21,
   "id": "2073e4b9-7c97-42d5-bc99-8edab2a3f1af",
   "metadata": {},
   "outputs": [
    {
     "name": "stdin",
     "output_type": "stream",
     "text": [
      "Enter the string: noon\n"
     ]
    },
    {
     "name": "stdout",
     "output_type": "stream",
     "text": [
      "The string is palindrome.\n"
     ]
    }
   ],
   "source": [
    "s_palin = input(\"Enter the string:\")\n",
    "rev_p = s_palin[::-1]\n",
    "\n",
    "if s_palin == rev_p:\n",
    "    print(\"The string is palindrome.\")\n",
    "else:\n",
    "    print(\"The string is not palindrome.\")\n"
   ]
  },
  {
   "cell_type": "markdown",
   "id": "6f422dfa-4475-4403-84eb-8b0d382931e5",
   "metadata": {},
   "source": [
    "5. Create a program that takes a string as input and removes all the spaces from it. Print the modified string without spaces."
   ]
  },
  {
   "cell_type": "code",
   "execution_count": 26,
   "id": "cc09a5ff-f7fa-4530-811e-b9f76bf8a414",
   "metadata": {},
   "outputs": [
    {
     "name": "stdin",
     "output_type": "stream",
     "text": [
      "Enter the string:   my name is samar   .   saurabh\n"
     ]
    },
    {
     "name": "stdout",
     "output_type": "stream",
     "text": [
      "The Modified string is: mynameissamar.saurabh\n"
     ]
    }
   ],
   "source": [
    "s_new = input(\"Enter the string:\")\n",
    "modified_st = s_new.replace(\" \",\"\")\n",
    "\n",
    "print(\"The Modified string is:\",modified_st)\n"
   ]
  },
  {
   "cell_type": "code",
   "execution_count": null,
   "id": "a1ee79af-d6c1-4d7b-a986-15b5453376a7",
   "metadata": {},
   "outputs": [],
   "source": []
  }
 ],
 "metadata": {
  "kernelspec": {
   "display_name": "Python 3 (ipykernel)",
   "language": "python",
   "name": "python3"
  },
  "language_info": {
   "codemirror_mode": {
    "name": "ipython",
    "version": 3
   },
   "file_extension": ".py",
   "mimetype": "text/x-python",
   "name": "python",
   "nbconvert_exporter": "python",
   "pygments_lexer": "ipython3",
   "version": "3.10.8"
  }
 },
 "nbformat": 4,
 "nbformat_minor": 5
}
